{
 "cells": [
  {
   "cell_type": "code",
   "execution_count": 2,
   "metadata": {},
   "outputs": [
    {
     "name": "stderr",
     "output_type": "stream",
     "text": [
      "/home/jkshen/anaconda3/envs/dgl_test/lib/python3.9/site-packages/tqdm/auto.py:21: TqdmWarning: IProgress not found. Please update jupyter and ipywidgets. See https://ipywidgets.readthedocs.io/en/stable/user_install.html\n",
      "  from .autonotebook import tqdm as notebook_tqdm\n"
     ]
    }
   ],
   "source": [
    "import torch\n",
    "import torchvision.models as models\n",
    "\n",
    "from torch.profiler import profile, record_function, ProfilerActivity"
   ]
  },
  {
   "cell_type": "code",
   "execution_count": 3,
   "metadata": {},
   "outputs": [],
   "source": [
    "model  = models.resnet18()\n",
    "inputs = torch.randn(5, 3, 224, 224)"
   ]
  },
  {
   "cell_type": "code",
   "execution_count": 8,
   "metadata": {},
   "outputs": [],
   "source": [
    "with profile(activities=[ProfilerActivity.CPU], record_shapes=True) as prof:\n",
    "    with record_function(\"model_inference\"):\n",
    "        model(inputs)\n",
    "        "
   ]
  },
  {
   "cell_type": "code",
   "execution_count": 4,
   "metadata": {},
   "outputs": [
    {
     "name": "stdout",
     "output_type": "stream",
     "text": [
      "---------------------------------  ------------  ------------  ------------  ------------  ------------  ------------  \n",
      "                             Name    Self CPU %      Self CPU   CPU total %     CPU total  CPU time avg    # of Calls  \n",
      "---------------------------------  ------------  ------------  ------------  ------------  ------------  ------------  \n",
      "                  model_inference         7.71%       7.040ms        98.84%      90.230ms      90.230ms             1  \n",
      "                     aten::conv2d         1.63%       1.487ms        59.76%      54.558ms       2.728ms            20  \n",
      "                aten::convolution         1.61%       1.470ms        58.13%      53.071ms       2.654ms            20  \n",
      "               aten::_convolution         0.93%     850.000us        56.52%      51.601ms       2.580ms            20  \n",
      "         aten::mkldnn_convolution        55.40%      50.579ms        55.59%      50.751ms       2.538ms            20  \n",
      "                 aten::batch_norm         0.05%      45.000us        10.77%       9.829ms     491.450us            20  \n",
      "     aten::_batch_norm_impl_index         0.61%     558.000us        10.72%       9.784ms     489.200us            20  \n",
      "          aten::native_batch_norm         9.89%       9.029ms        10.08%       9.202ms     460.100us            20  \n",
      "        aten::adaptive_avg_pool2d         0.44%     402.000us         6.27%       5.726ms       5.726ms             1  \n",
      "                       aten::mean         1.73%       1.575ms         5.83%       5.324ms       5.324ms             1  \n",
      "---------------------------------  ------------  ------------  ------------  ------------  ------------  ------------  \n",
      "Self CPU time total: 91.291ms\n",
      "\n"
     ]
    }
   ],
   "source": [
    "print(prof.key_averages().table(sort_by=\"cpu_time_total\", row_limit=10))"
   ]
  },
  {
   "cell_type": "code",
   "execution_count": 5,
   "metadata": {},
   "outputs": [
    {
     "name": "stdout",
     "output_type": "stream",
     "text": [
      "---------------------------------  ------------  ------------  ------------  ------------  ------------  ------------  --------------------------------------------------------------------------------  \n",
      "                             Name    Self CPU %      Self CPU   CPU total %     CPU total  CPU time avg    # of Calls                                                                      Input Shapes  \n",
      "---------------------------------  ------------  ------------  ------------  ------------  ------------  ------------  --------------------------------------------------------------------------------  \n",
      "                  model_inference         7.71%       7.040ms        98.84%      90.230ms      90.230ms             1                                                                                []  \n",
      "                     aten::conv2d         1.56%       1.425ms        32.72%      29.868ms      29.868ms             1                             [[5, 3, 224, 224], [64, 3, 7, 7], [], [], [], [], []]  \n",
      "                aten::convolution         1.39%       1.269ms        31.16%      28.443ms      28.443ms             1                     [[5, 3, 224, 224], [64, 3, 7, 7], [], [], [], [], [], [], []]  \n",
      "               aten::_convolution         0.78%     708.000us        29.77%      27.174ms      27.174ms             1     [[5, 3, 224, 224], [64, 3, 7, 7], [], [], [], [], [], [], [], [], [], [], []]  \n",
      "         aten::mkldnn_convolution        28.95%      26.427ms        28.99%      26.466ms      26.466ms             1                             [[5, 3, 224, 224], [64, 3, 7, 7], [], [], [], [], []]  \n",
      "                     aten::conv2d         0.02%      20.000us         8.12%       7.410ms       1.853ms             4                             [[5, 64, 56, 56], [64, 64, 3, 3], [], [], [], [], []]  \n",
      "                aten::convolution         0.07%      62.000us         8.09%       7.390ms       1.847ms             4                     [[5, 64, 56, 56], [64, 64, 3, 3], [], [], [], [], [], [], []]  \n",
      "               aten::_convolution         0.05%      47.000us         8.03%       7.328ms       1.832ms             4     [[5, 64, 56, 56], [64, 64, 3, 3], [], [], [], [], [], [], [], [], [], [], []]  \n",
      "         aten::mkldnn_convolution         7.92%       7.232ms         7.98%       7.281ms       1.820ms             4                             [[5, 64, 56, 56], [64, 64, 3, 3], [], [], [], [], []]  \n",
      "                 aten::batch_norm         0.01%       5.000us         6.81%       6.215ms       6.215ms             1                       [[5, 64, 112, 112], [64], [64], [64], [64], [], [], [], []]  \n",
      "---------------------------------  ------------  ------------  ------------  ------------  ------------  ------------  --------------------------------------------------------------------------------  \n",
      "Self CPU time total: 91.291ms\n",
      "\n"
     ]
    }
   ],
   "source": [
    "print(prof.key_averages(group_by_input_shape=True).table(sort_by=\"cpu_time_total\", row_limit=10))"
   ]
  },
  {
   "cell_type": "code",
   "execution_count": 7,
   "metadata": {},
   "outputs": [
    {
     "name": "stdout",
     "output_type": "stream",
     "text": [
      "-------------------------------------------------------  ------------  ------------  ------------  ------------  ------------  ------------  ------------  ------------  ------------  ------------  \n",
      "                                                   Name    Self CPU %      Self CPU   CPU total %     CPU total  CPU time avg     Self CUDA   Self CUDA %    CUDA total  CUDA time avg    # of Calls  \n",
      "-------------------------------------------------------  ------------  ------------  ------------  ------------  ------------  ------------  ------------  ------------  ------------  ------------  \n",
      "                                        model_inference        22.87%       1.352ms        99.63%       5.889ms       5.889ms       0.000us         0.00%       1.884ms       1.884ms             1  \n",
      "                                           aten::conv2d         0.74%      44.000us        43.22%       2.555ms     127.750us       0.000us         0.00%       1.371ms      68.550us            20  \n",
      "                                      aten::convolution         2.39%     141.000us        42.48%       2.511ms     125.550us       0.000us         0.00%       1.371ms      68.550us            20  \n",
      "                                     aten::_convolution         1.61%      95.000us        40.09%       2.370ms     118.500us       0.000us         0.00%       1.371ms      68.550us            20  \n",
      "                                aten::cudnn_convolution        30.01%       1.774ms        38.49%       2.275ms     113.750us       1.371ms        72.77%       1.371ms      68.550us            20  \n",
      "sm80_xmma_fprop_implicit_gemm_indexed_tf32f32_tf32f3...         0.00%       0.000us         0.00%       0.000us       0.000us     276.000us        14.65%     276.000us      69.000us             4  \n",
      "void cudnn::ops::nchwToNhwcKernel<float, float, floa...         0.00%       0.000us         0.00%       0.000us       0.000us     264.000us        14.01%     264.000us       8.250us            32  \n",
      "                                       aten::batch_norm         0.46%      27.000us        18.90%       1.117ms      55.850us       0.000us         0.00%     261.000us      13.050us            20  \n",
      "                           aten::_batch_norm_impl_index         0.68%      40.000us        18.44%       1.090ms      54.500us       0.000us         0.00%     261.000us      13.050us            20  \n",
      "                                 aten::cudnn_batch_norm         9.59%     567.000us        17.76%       1.050ms      52.500us     261.000us        13.85%     261.000us      13.050us            20  \n",
      "-------------------------------------------------------  ------------  ------------  ------------  ------------  ------------  ------------  ------------  ------------  ------------  ------------  \n",
      "Self CPU time total: 5.911ms\n",
      "Self CUDA time total: 1.884ms\n",
      "\n"
     ]
    }
   ],
   "source": [
    "model = models.resnet18().cuda()\n",
    "inputs = torch.randn(5, 3, 224, 224).cuda()\n",
    "\n",
    "with profile(activities=[\n",
    "        ProfilerActivity.CPU, ProfilerActivity.CUDA], record_shapes=True) as prof:\n",
    "    with record_function(\"model_inference\"):\n",
    "        model(inputs)\n",
    "\n",
    "print(prof.key_averages().table(sort_by=\"cuda_time_total\", row_limit=10))"
   ]
  },
  {
   "cell_type": "code",
   "execution_count": 4,
   "metadata": {},
   "outputs": [
    {
     "name": "stdout",
     "output_type": "stream",
     "text": [
      "-------------------------------------------------------  ------------  ------------  ------------  ------------  ------------  ------------  ------------  ------------  ------------  ------------  ------------  ------------  ------------  ------------  \n",
      "                                                   Name    Self CPU %      Self CPU   CPU total %     CPU total  CPU time avg     Self CUDA   Self CUDA %    CUDA total  CUDA time avg       CPU Mem  Self CPU Mem      CUDA Mem  Self CUDA Mem    # of Calls  \n",
      "-------------------------------------------------------  ------------  ------------  ------------  ------------  ------------  ------------  ------------  ------------  ------------  ------------  ------------  ------------  ------------  ------------  \n",
      "                                               [memory]         0.00%       0.000us         0.00%       0.000us       0.000us       0.000us         0.00%       0.000us       0.000us          16 b          16 b    -110.32 Mb    -110.32 Mb           122  \n",
      "                                           aten::conv2d         0.00%      55.000us        97.08%        2.221s     111.058ms       0.000us         0.00%       1.383ms      69.150us           0 b           0 b      49.78 Mb           0 b            20  \n",
      "                                      aten::convolution         0.01%     165.000us        97.08%        2.221s     111.056ms       0.000us         0.00%       1.383ms      69.150us           0 b           0 b      49.78 Mb           0 b            20  \n",
      "                                     aten::_convolution         0.00%     105.000us        97.07%        2.221s     111.047ms       0.000us         0.00%       1.383ms      69.150us           0 b           0 b      49.78 Mb           0 b            20  \n",
      "                                aten::cudnn_convolution         2.88%      65.996ms        97.07%        2.221s     111.042ms       1.383ms        72.83%       1.383ms      69.150us           0 b           0 b      49.78 Mb     -71.52 Mb            20  \n",
      "                                  cudaStreamIsCapturing         0.00%      14.000us         0.00%      14.000us       0.264us       0.000us         0.00%       0.000us       0.000us           0 b           0 b           0 b           0 b            53  \n",
      "                                             cudaMalloc         0.06%       1.367ms         0.06%       1.367ms      59.435us       0.000us         0.00%       0.000us       0.000us           0 b           0 b           0 b           0 b            23  \n",
      "                                     cudaGetDeviceCount         0.00%       0.000us         0.00%       0.000us       0.000us       0.000us         0.00%       0.000us       0.000us           0 b           0 b           0 b           0 b             1  \n",
      "                                   cudaDriverGetVersion         0.00%       0.000us         0.00%       0.000us       0.000us       0.000us         0.00%       0.000us       0.000us           0 b           0 b           0 b           0 b             1  \n",
      "                                 cudaDeviceGetAttribute         0.00%       1.000us         0.00%       1.000us       0.031us       0.000us         0.00%       0.000us       0.000us           0 b           0 b           0 b           0 b            32  \n",
      "-------------------------------------------------------  ------------  ------------  ------------  ------------  ------------  ------------  ------------  ------------  ------------  ------------  ------------  ------------  ------------  ------------  \n",
      "Self CPU time total: 2.288s\n",
      "Self CUDA time total: 1.899ms\n",
      "\n",
      "-------------------------------------------------------  ------------  ------------  ------------  ------------  ------------  ------------  ------------  ------------  ------------  ------------  ------------  ------------  ------------  ------------  \n",
      "                                                   Name    Self CPU %      Self CPU   CPU total %     CPU total  CPU time avg     Self CUDA   Self CUDA %    CUDA total  CUDA time avg       CPU Mem  Self CPU Mem      CUDA Mem  Self CUDA Mem    # of Calls  \n",
      "-------------------------------------------------------  ------------  ------------  ------------  ------------  ------------  ------------  ------------  ------------  ------------  ------------  ------------  ------------  ------------  ------------  \n",
      "                                               [memory]         0.00%       0.000us         0.00%       0.000us       0.000us       0.000us         0.00%       0.000us       0.000us          16 b          16 b    -110.32 Mb    -110.32 Mb           122  \n",
      "                                           aten::conv2d         0.00%      55.000us        97.08%        2.221s     111.058ms       0.000us         0.00%       1.383ms      69.150us           0 b           0 b      49.78 Mb           0 b            20  \n",
      "                                      aten::convolution         0.01%     165.000us        97.08%        2.221s     111.056ms       0.000us         0.00%       1.383ms      69.150us           0 b           0 b      49.78 Mb           0 b            20  \n",
      "                                     aten::_convolution         0.00%     105.000us        97.07%        2.221s     111.047ms       0.000us         0.00%       1.383ms      69.150us           0 b           0 b      49.78 Mb           0 b            20  \n",
      "                                aten::cudnn_convolution         2.88%      65.996ms        97.07%        2.221s     111.042ms       1.383ms        72.83%       1.383ms      69.150us           0 b           0 b      49.78 Mb     -71.52 Mb            20  \n",
      "                                  cudaStreamIsCapturing         0.00%      14.000us         0.00%      14.000us       0.264us       0.000us         0.00%       0.000us       0.000us           0 b           0 b           0 b           0 b            53  \n",
      "                                             cudaMalloc         0.06%       1.367ms         0.06%       1.367ms      59.435us       0.000us         0.00%       0.000us       0.000us           0 b           0 b           0 b           0 b            23  \n",
      "                                     cudaGetDeviceCount         0.00%       0.000us         0.00%       0.000us       0.000us       0.000us         0.00%       0.000us       0.000us           0 b           0 b           0 b           0 b             1  \n",
      "                                   cudaDriverGetVersion         0.00%       0.000us         0.00%       0.000us       0.000us       0.000us         0.00%       0.000us       0.000us           0 b           0 b           0 b           0 b             1  \n",
      "                                 cudaDeviceGetAttribute         0.00%       1.000us         0.00%       1.000us       0.031us       0.000us         0.00%       0.000us       0.000us           0 b           0 b           0 b           0 b            32  \n",
      "-------------------------------------------------------  ------------  ------------  ------------  ------------  ------------  ------------  ------------  ------------  ------------  ------------  ------------  ------------  ------------  ------------  \n",
      "Self CPU time total: 2.288s\n",
      "Self CUDA time total: 1.899ms\n",
      "\n"
     ]
    }
   ],
   "source": [
    "model = models.resnet18().cuda()\n",
    "inputs = torch.randn(5, 3, 224, 224).cuda()\n",
    "\n",
    "with profile(activities=[ProfilerActivity.CPU, ProfilerActivity.CUDA],\n",
    "        profile_memory=True, record_shapes=True) as prof:\n",
    "    model(inputs)\n",
    "\n",
    "print(prof.key_averages().table(sort_by=\"self_cpu_memory_usage\", row_limit=10))\n",
    "\n",
    "# (omitting some columns)\n",
    "# ---------------------------------  ------------  ------------  ------------\n",
    "#                              Name       CPU Mem  Self CPU Mem    # of Calls\n",
    "# ---------------------------------  ------------  ------------  ------------\n",
    "#                       aten::empty      94.79 Mb      94.79 Mb           121\n",
    "#     aten::max_pool2d_with_indices      11.48 Mb      11.48 Mb             1\n",
    "#                       aten::addmm      19.53 Kb      19.53 Kb             1\n",
    "#               aten::empty_strided         572 b         572 b            25\n",
    "#                     aten::resize_         240 b         240 b             6\n",
    "#                         aten::abs         480 b         240 b             4\n",
    "#                         aten::add         160 b         160 b            20\n",
    "#               aten::masked_select         120 b         112 b             1\n",
    "#                          aten::ne         122 b          53 b             6\n",
    "#                          aten::eq          60 b          30 b             2\n",
    "# ---------------------------------  ------------  ------------  ------------\n",
    "# Self CPU time total: 53.064ms\n",
    "\n",
    "print(prof.key_averages().table(sort_by=\"cpu_memory_usage\", row_limit=10))"
   ]
  },
  {
   "cell_type": "code",
   "execution_count": 11,
   "metadata": {},
   "outputs": [],
   "source": [
    "model = models.resnet18().cuda()\n",
    "inputs = torch.randn(5, 3, 224, 224).cuda()\n",
    "\n",
    "with profile(activities=[ProfilerActivity.CPU, ProfilerActivity.CUDA],\n",
    "             profile_memory=True, record_shapes=True ) as prof:\n",
    "    model(inputs)\n",
    "\n",
    "prof.export_chrome_trace(\"trace.json\")\n",
    "prof.export"
   ]
  }
 ],
 "metadata": {
  "kernelspec": {
   "display_name": "dgl_test",
   "language": "python",
   "name": "python3"
  },
  "language_info": {
   "codemirror_mode": {
    "name": "ipython",
    "version": 3
   },
   "file_extension": ".py",
   "mimetype": "text/x-python",
   "name": "python",
   "nbconvert_exporter": "python",
   "pygments_lexer": "ipython3",
   "version": "3.9.5"
  }
 },
 "nbformat": 4,
 "nbformat_minor": 2
}
